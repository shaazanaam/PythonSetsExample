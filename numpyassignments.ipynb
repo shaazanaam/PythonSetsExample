{
 "cells": [
  {
   "cell_type": "code",
   "execution_count": 4,
   "id": "6b8d5040",
   "metadata": {},
   "outputs": [],
   "source": [
    "# Module: NumPy Assignments\n",
    "## Lesson: NumPy\n",
    "### Assignment 1: Array Creation and Manipulation\n",
    "\n",
    "#1. Create a NumPy array of shape (5, 5) filled with random integers between 1 and 20. Replace all the elements in the third column with 1.\n",
    "import numpy as np\n",
    "\n",
    "arr1= np.random.randint(1, 20, (5, 5))\n",
    "arr1[:, 2] = 1\n",
    "arr1\n",
    "\n",
    "#2. Create a NumPy array of shape (4, 4) with values from 1 to 16. Replace the diagonal elements with 0.\n",
    "\n",
    "arr2 = np.arange(1, 17).reshape(4, 4)\n",
    "np.fill_diagonal(arr2, 0)"
   ]
  },
  {
   "cell_type": "code",
   "execution_count": 49,
   "id": "73bea859",
   "metadata": {},
   "outputs": [
    {
     "name": "stdout",
     "output_type": "stream",
     "text": [
      "[[27 86 51 61 17]\n",
      " [50 75 11 54 30]\n",
      " [55 27 50 73 22]\n",
      " [16 49 98 49 71]\n",
      " [66 52 29 72 33]]\n"
     ]
    },
    {
     "ename": "TypeError",
     "evalue": "concatenate() takes from 1 to 3 positional arguments but 4 were given",
     "output_type": "error",
     "traceback": [
      "\u001b[1;31m---------------------------------------------------------------------------\u001b[0m",
      "\u001b[1;31mTypeError\u001b[0m                                 Traceback (most recent call last)",
      "Cell \u001b[1;32mIn[49], line 10\u001b[0m\n\u001b[0;32m      8\u001b[0m \u001b[38;5;28mprint\u001b[39m(arr5)\n\u001b[0;32m      9\u001b[0m arr6\u001b[38;5;241m=\u001b[39marr5[\u001b[38;5;241m1\u001b[39m,:]\n\u001b[1;32m---> 10\u001b[0m arr6\u001b[38;5;241m=\u001b[39m\u001b[43mnp\u001b[49m\u001b[38;5;241;43m.\u001b[39;49m\u001b[43mconcatenate\u001b[49m\u001b[43m(\u001b[49m\u001b[43marr5\u001b[49m\u001b[43m[\u001b[49m\u001b[38;5;241;43m1\u001b[39;49m\u001b[43m:\u001b[49m\u001b[38;5;241;43m5\u001b[39;49m\u001b[43m,\u001b[49m\u001b[38;5;241;43m1\u001b[39;49m\u001b[43m]\u001b[49m\u001b[43m,\u001b[49m\u001b[43marr5\u001b[49m\u001b[43m[\u001b[49m\u001b[38;5;241;43m1\u001b[39;49m\u001b[43m:\u001b[49m\u001b[38;5;241;43m4\u001b[39;49m\u001b[43m,\u001b[49m\u001b[38;5;241;43m1\u001b[39;49m\u001b[43m]\u001b[49m\u001b[43m,\u001b[49m\u001b[43marr5\u001b[49m\u001b[43m[\u001b[49m\u001b[38;5;241;43m4\u001b[39;49m\u001b[43m,\u001b[49m\u001b[43m:\u001b[49m\u001b[43m]\u001b[49m\u001b[43m,\u001b[49m\u001b[43marr5\u001b[49m\u001b[43m[\u001b[49m\u001b[38;5;241;43m0\u001b[39;49m\u001b[43m,\u001b[49m\u001b[43m:\u001b[49m\u001b[43m]\u001b[49m\u001b[43m)\u001b[49m\n\u001b[0;32m     11\u001b[0m \u001b[38;5;28mprint\u001b[39m(arr6)\n\u001b[0;32m     12\u001b[0m \u001b[38;5;28mprint\u001b[39m(arr5[\u001b[38;5;241m1\u001b[39m:\u001b[38;5;241m4\u001b[39m,\u001b[38;5;241m1\u001b[39m])\n",
      "\u001b[1;31mTypeError\u001b[0m: concatenate() takes from 1 to 3 positional arguments but 4 were given"
     ]
    }
   ],
   "source": [
    "\n",
    "\n",
    "### Assignment 2: Array Indexing and Slicing\n",
    "\n",
    "# 1. Create a NumPy array of shape (6, 6) with values from 1 to 36. Extract the sub-array consisting of the 3rd to 5th rows and 2nd to 4th columns.\n",
    "arr4=np.arange(1, 37).reshape(6, 6)\n",
    "sub_arr4 = arr4[2:5, 1:4]\n",
    "# 2. Create a NumPy array of shape (5, 5) with random integers. Extract the elements on the border.\n",
    "arr5 = np.random.randint(1, 100, (5, 5))\n",
    "print(arr5)\n",
    "arr6=arr5[1,:]\n",
    "arr6=np.concatenate(arr5[1:5,1],arr5[1:4,1],arr5[4,:],arr5[0,:])\n",
    "print(arr6)\n",
    "print(arr5[1:4,1])\n",
    "print(arr5[4,:])\n",
    "print(arr5[0,:])\n",
    "\n",
    "\n"
   ]
  },
  {
   "cell_type": "code",
   "execution_count": null,
   "id": "aed545ab",
   "metadata": {},
   "outputs": [],
   "source": [
    "\n",
    "# ### Assignment 3: Array Operations\n",
    "\n",
    "# 1. Create two NumPy arrays of shape (3, 4) filled with random integers. Perform element-wise addition, subtraction, multiplication, and division.\n",
    "# 2. Create a NumPy array of shape (4, 4) with values from 1 to 16. Compute the row-wise and column-wise sum.\n"
   ]
  },
  {
   "cell_type": "code",
   "execution_count": null,
   "id": "23df3a14",
   "metadata": {},
   "outputs": [],
   "source": [
    "\n",
    "# ### Assignment 4: Statistical Operations\n",
    "\n",
    "# #1. Create a NumPy array of shape (5, 5) filled with random integers. Compute the mean, median, standard deviation, and variance of the array.\n",
    "# #2. Create a NumPy array of shape (3, 3) with values from 1 to 9. Normalize the array (i.e., scale the values to have a mean of 0 and a standard deviation of 1).\n"
   ]
  },
  {
   "cell_type": "code",
   "execution_count": null,
   "id": "2902a9d2",
   "metadata": {},
   "outputs": [
    {
     "data": {
      "text/plain": [
       "array([[12, 19,  7],\n",
       "       [12,  3, 17],\n",
       "       [ 6,  8, 15]], dtype=int32)"
      ]
     },
     "execution_count": 22,
     "metadata": {},
     "output_type": "execute_result"
    }
   ],
   "source": [
    "\n",
    "# ### Assignment 5: Broadcasting\n",
    "\n",
    "# #1. Create a NumPy array of shape (3, 3) filled with random integers. Add a 1D array of shape (3,) to each row of the 2D array using broadcasting.\n",
    "\n",
    "import numpy as np\n",
    "array33= np.random.randint(1,20, size = (3,3))\n",
    "array33\n",
    "\n",
    "arr_shape3 = np.random.randint(1,5, size = (3,))\n",
    "result = array33+arr_shape3\n",
    "result\n"
   ]
  },
  {
   "cell_type": "code",
   "execution_count": 24,
   "id": "ddee4648",
   "metadata": {},
   "outputs": [
    {
     "data": {
      "text/plain": [
       "array([[18, 53,  6, 40],\n",
       "       [47, 29, 47, 44],\n",
       "       [38, 51, 20, 37],\n",
       "       [30, 20, 10, 21]], dtype=int32)"
      ]
     },
     "execution_count": 24,
     "metadata": {},
     "output_type": "execute_result"
    }
   ],
   "source": [
    "\n",
    "# #2. Create a NumPy array of shape (4, 4) filled with random integers. Subtract a 1D array of shape (4,) from each column of the 2D array using broadcasting.\n",
    "array44 = np.random.randint(1,56, size = (4,4))\n",
    "array_oneD = np.random.randint(1,4, size = (4,))\n",
    "\n",
    "result = array44-array_oneD[:,np.newaxis]\n",
    "result"
   ]
  },
  {
   "cell_type": "code",
   "execution_count": null,
   "id": "394d9f26",
   "metadata": {},
   "outputs": [],
   "source": [
    "\n",
    "# ### Assignment 6: Linear Algebra\n",
    "\n",
    "# #1. Create a NumPy array of shape (3, 3) representing a matrix. Compute its determinant, inverse, and eigenvalues.\n",
    "# #2. Create two NumPy arrays of shape (2, 3) and (3, 2). Perform matrix multiplication on these arrays.\n",
    "import numpy as np\n",
    "\n",
    "arr2 = np.random.randint(1,10, size= (3,3))\n",
    "print (arr2)\n",
    "\n",
    "matrix = np.array(arr2)  ## making a mtrix out of the array\n",
    "determinant = np.linalg.det(matrix)\n",
    "inverse = np.linalg.inv(matrix)\n",
    "eigenValues = np.linalg.eig(matrix)\n",
    "# print(\"Determinant: \", determinant)\n",
    "# print(\"inverse: \", inverse)\n",
    "# print(\"eigenValue: \", eigenValues)\n",
    "\n",
    "array23 = np.arange(1,7).reshape(2,3)\n",
    "array32 = np.arange(8,14).reshape(3,2)\n",
    "\n",
    "array32 \n",
    "array23\n",
    "# Ensure that the dimensions of the matrices are \n",
    "# compatible for multiplication. For example, if A is of shape (m, n),\n",
    "#  then B must be of shape (n, p).\n",
    "# The resulting matrix will have the shape (m, p).\n",
    "array_multiply = np.dot(array23,array32)\n",
    "array_multiply\n"
   ]
  },
  {
   "cell_type": "code",
   "execution_count": 26,
   "id": "7a6c515f",
   "metadata": {},
   "outputs": [
    {
     "data": {
      "text/plain": [
       "array([[1],\n",
       "       [2],\n",
       "       [3],\n",
       "       [4],\n",
       "       [5],\n",
       "       [6],\n",
       "       [7],\n",
       "       [8],\n",
       "       [9]])"
      ]
     },
     "execution_count": 26,
     "metadata": {},
     "output_type": "execute_result"
    }
   ],
   "source": [
    "\n",
    "# ### Assignment 7: Advanced Array Manipulation\n",
    "\n",
    "# 1. Create a NumPy array of shape (3, 3) with values from 1 to 9. Reshape the array to shape (1, 9) and then to shape (9, 1).\n",
    "\n",
    "arr337 = np.arange(1,10).reshape(3,3).reshape(1,9).reshape(9,1)\n",
    "arr337"
   ]
  },
  {
   "cell_type": "code",
   "execution_count": 30,
   "id": "fac1988e",
   "metadata": {},
   "outputs": [
    {
     "data": {
      "text/plain": [
       "array([ 9,  3,  1, 10,  7, 20, 11,  5, 17, 11,  3, 19,  2,  1, 18,  2, 13,\n",
       "        9, 19,  8, 11, 10,  3, 13, 20], dtype=int32)"
      ]
     },
     "execution_count": 30,
     "metadata": {},
     "output_type": "execute_result"
    }
   ],
   "source": [
    "\n",
    "# 2. Create a NumPy array of shape (5, 5) filled with random integers. Flatten the array and then reshape it back to (5, 5).\n",
    "array552 = np.random.randint(1,21,size=(5,5))\n",
    "\n",
    "flat_array= array552.flatten()\n",
    "flat_array"
   ]
  },
  {
   "cell_type": "code",
   "execution_count": 31,
   "id": "3a1e6ad5",
   "metadata": {},
   "outputs": [
    {
     "name": "stdout",
     "output_type": "stream",
     "text": [
      "Original array:\n",
      "[[14 17 19  7 20]\n",
      " [ 7 10  8 15 10]\n",
      " [13  7  7  6  5]\n",
      " [ 6  9  4  8 11]\n",
      " [ 8 16 17 16 15]]\n",
      "[14 20  8 15]\n"
     ]
    }
   ],
   "source": [
    "\n",
    "# ### Assignment 8: Fancy Indexing and Boolean Indexing\n",
    "\n",
    "# 1. Create a NumPy array of shape (5, 5) filled with random integers.\n",
    "# What is Fancy Indexing in NumPy?\n",
    "# Fancy indexing is a powerful feature in NumPy that allows you to access and manipulate\n",
    "# elements of an array using arrays of indices rather than simple integer indices.\n",
    "# This enables you to extract or modify multiple elements at once in a more flexible way.\n",
    "\n",
    "# How It Works in Your Example\n",
    "# In your code, you created a 5x5 NumPy array filled with random integers and \n",
    "# then used fancy indexing to extract the corner elements. Here’s a breakdown of how it works:\n",
    "#  Use fancy indexing to extract the elements at the corners of the array.\n",
    "array55 = np.random.randint(1, 21, size=(5, 5))\n",
    "print(\"Original array:\")\n",
    "print(array55)\n",
    "corners= array55[[0,0,-1,-1],[0,-1,0,-1]]\n",
    "print(corners)"
   ]
  },
  {
   "cell_type": "code",
   "execution_count": 33,
   "id": "dd1701a1",
   "metadata": {},
   "outputs": [
    {
     "name": "stdout",
     "output_type": "stream",
     "text": [
      "Original array:\n",
      "[[ 2 16 12 17]\n",
      " [ 9 13  8  4]\n",
      " [ 6 19  8  1]\n",
      " [17 19 18  1]]\n",
      "Modified array:  [[ 2 10 10 10]\n",
      " [ 9 10  8  4]\n",
      " [ 6 10  8  1]\n",
      " [10 10 10  1]]\n"
     ]
    }
   ],
   "source": [
    "\n",
    "\n",
    "# 2. Create a NumPy array of shape (4, 4) filled with random integers.\n",
    "#  Use boolean indexing to set all elements greater than 10 to 10.\n",
    "array = np.random.randint(1, 21, size=(4, 4))\n",
    "print(\"Original array:\")\n",
    "print(array)\n",
    "array[array>10]=10\n",
    "print(\"Modified array: \", array)\n",
    "\n",
    "\n"
   ]
  },
  {
   "cell_type": "code",
   "execution_count": 35,
   "id": "4110bf73",
   "metadata": {},
   "outputs": [
    {
     "name": "stdout",
     "output_type": "stream",
     "text": [
      "[('Alice', 25, 55.5) ('Bob', 30, 85.3) ('Charlie', 20, 65.2)]\n"
     ]
    },
    {
     "data": {
      "text/plain": [
       "array([('Charlie', 20, 65.2), ('Alice', 25, 55.5), ('Bob', 30, 85.3)],\n",
       "      dtype=[('name', '<U10'), ('age', '<i4'), ('weight', '<f4')])"
      ]
     },
     "execution_count": 35,
     "metadata": {},
     "output_type": "execute_result"
    }
   ],
   "source": [
    "\n",
    "# ### Assignment 9: Structured Arrays\n",
    "\n",
    "# 1. Create a structured array with fields 'name' (string), 'age' (integer), and 'weight' (float). Add some data and sort the array by age.\n",
    "data_type2 = [('name','U10'), ('age','i4'), ('weight','f4')]\n",
    "data = np.array([('Alice',25,55.5),('Bob',30,85.3),('Charlie',20,65.2)], dtype= data_type2)\n",
    "\n",
    "print(data)\n",
    "sorted_array = np.sort(data, order= 'age')\n",
    "sorted_array"
   ]
  },
  {
   "cell_type": "code",
   "execution_count": 38,
   "id": "319825f7",
   "metadata": {},
   "outputs": [
    {
     "data": {
      "text/plain": [
       "array([[0.        , 2.82842712, 4.24264069],\n",
       "       [2.82842712, 0.        , 1.41421356],\n",
       "       [4.24264069, 1.41421356, 0.        ]])"
      ]
     },
     "execution_count": 38,
     "metadata": {},
     "output_type": "execute_result"
    }
   ],
   "source": [
    "\n",
    "# 2. Create a structured array with fields 'x' and 'y' (both integers).\n",
    "#  Add some data and compute the Euclidean distance between each pair of points.\n",
    "data_type3=[('x','i4'),('y','i4')]\n",
    "data2= np.array([(1,2),(3,4),(4,5)],dtype=data_type3)\n",
    "distances =np.sqrt((data2['x'][:,np.newaxis]-data2['x'])**2 +(data2['y'][:,np.newaxis]- data2['y'])**2)\n",
    "\n",
    "distances"
   ]
  },
  {
   "cell_type": "code",
   "execution_count": 39,
   "id": "4a2e6e93",
   "metadata": {},
   "outputs": [
    {
     "name": "stdout",
     "output_type": "stream",
     "text": [
      "Original Array\n",
      "[[ 4  9 10  7]\n",
      " [ 2 11 13  5]\n",
      " [11  6  2  8]\n",
      " [ 3 13  2  3]]\n",
      "Masked Array \n",
      "[[4 9 10 7]\n",
      " [2 -- -- 5]\n",
      " [-- 6 2 8]\n",
      " [3 -- 2 3]]\n"
     ]
    }
   ],
   "source": [
    "# ### Assignment 10: Masked Arrays\n",
    "# What is a Masked Array?\n",
    "# A masked array is a special type of array in\n",
    "# NumPy that allows you to handle missing or\n",
    "# invalid entries in your data. It consists of two main components:\n",
    "\n",
    "# Data Array: The actual data values.\n",
    "# Mask: A boolean array that indicates which elements are valid (unmasked)\n",
    "# and which are invalid (masked). Masked elements are typically\n",
    "# represented as -- when printed.\n",
    "# Why Use Masked Arrays?\n",
    "# Masked arrays are useful in scenarios where you want to perform\n",
    "# calculations while ignoring certain values. For example, if you have \n",
    "# an array of measurements and some values are outliers or invalid, you \n",
    "# can mask those values and compute statistics (like sums or means) only on the valid data.\n",
    "\n",
    "# 1. Create a masked array of shape (4, 4) with random integers and mask the elements greater than 10. Compute the sum of the unmasked elements.\n",
    "import numpy.ma as ma\n",
    "original_array = np.random.randint(1,16, size = (4,4))\n",
    "\n",
    "masked_array = ma.masked_greater(original_array,10)\n",
    "print(\"Original Array\")\n",
    "print(original_array)\n",
    "print(\"Masked Array \")\n",
    "print(masked_array)"
   ]
  },
  {
   "cell_type": "code",
   "execution_count": null,
   "id": "f716cdd6",
   "metadata": {},
   "outputs": [
    {
     "name": "stdout",
     "output_type": "stream",
     "text": [
      "Original Array \n",
      "[[5 5 3]\n",
      " [4 6 6]\n",
      " [4 5 1]]\n",
      "Masked array : \n",
      "[[-- 5 3]\n",
      " [4 -- 6]\n",
      " [4 5 --]]\n",
      "[[4 9 10 7]\n",
      " [2 -- -- 5]\n",
      " [-- 6 2 8]\n",
      " [3 -- 2 3]]\n"
     ]
    }
   ],
   "source": [
    "\n",
    "# 2. Create a masked array of shape (3, 3) with random integers and mask the diagonal elements. \n",
    "# ma.masked_array(): This function creates a masked array from the given data (original_array2). The mask parameter specifies which elements to mask.\n",
    "# np.eye(3, dtype=bool): This creates a 3x3 identity matrix where the diagonal elements are True \n",
    "# and all other elements are False. When passed as the mask, it indicates that the diagonal elements \n",
    "# of original_array2 should be masked.\n",
    "# Replace the masked elements with the mean of the unmasked elements.\n",
    "\n",
    "original_array2 = np.random.randint(1,7,size=(3,3))\n",
    "masked_array2= ma.masked_array(original_array2, mask= np.eye(3,dtype=bool))\n",
    "print(\"Original Array \")\n",
    "print(original_array2)\n",
    "print(\"Masked array : \")\n",
    "print(masked_array2)\n",
    "\n",
    "# masked_array2.filled(mean_unmasked): This function returns a new array\n",
    "# where all masked elements are replaced with the specified \n",
    "# value (mean_unmasked). This allows you to fill in the masked positions with the calculated mean.\n",
    "mean_unmasked= masked_array2.mean()\n",
    "masked_array2 = masked_array2.filled(mean_unmasked)\n",
    "\n",
    "print(masked_array)\n",
    "\n",
    "\n",
    "# np.random.randint(): Generates an array of random integers.\n",
    "# ma.masked_array(): Creates a masked array, allowing you to specify which elements to mask.\n",
    "# np.eye(): Generates an identity matrix, useful for creating masks.\n",
    "# mean(): Computes the mean of the unmasked elements in the masked array.\n",
    "# filled(): Replaces masked elements with a specified value.\n",
    "\n",
    "\n",
    "\n",
    "\n"
   ]
  },
  {
   "cell_type": "code",
   "execution_count": null,
   "metadata": {},
   "outputs": [],
   "source": []
  }
 ],
 "metadata": {
  "kernelspec": {
   "display_name": "Python 3",
   "language": "python",
   "name": "python3"
  },
  "language_info": {
   "codemirror_mode": {
    "name": "ipython",
    "version": 3
   },
   "file_extension": ".py",
   "mimetype": "text/x-python",
   "name": "python",
   "nbconvert_exporter": "python",
   "pygments_lexer": "ipython3",
   "version": "3.12.0"
  }
 },
 "nbformat": 4,
 "nbformat_minor": 5
}
