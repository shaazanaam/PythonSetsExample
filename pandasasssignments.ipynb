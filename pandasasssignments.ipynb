{
 "cells": [
  {
   "cell_type": "code",
   "execution_count": 2,
   "id": "585ad42c",
   "metadata": {},
   "outputs": [
    {
     "name": "stdout",
     "output_type": "stream",
     "text": [
      "Original DataFrame: \n",
      "    A   B   C   D\n",
      "0   2  44  91  80\n",
      "1  79  94  58  54\n",
      "2  36  71   7  70\n",
      "3  91  24  63  83\n",
      "4  31  14  37  53\n",
      "5  54  82  27  63\n",
      "DataFrame with the new index:\n",
      "     B   C   D\n",
      "A             \n",
      "2   44  91  80\n",
      "79  94  58  54\n",
      "36  71   7  70\n",
      "91  24  63  83\n",
      "31  14  37  53\n",
      "54  82  27  63\n",
      "82\n"
     ]
    }
   ],
   "source": [
    "# Module: Pandas Assignments\n",
    "## Lesson: Pandas\n",
    "### Assignment 1: DataFrame Creation and Indexing\n",
    "\n",
    "# 1. Create a Pandas DataFrame with 4 columns and 6 rows filled with random integers. Set the index to be the first column.\n",
    "# 2. Create a Pandas DataFrame with columns 'A', 'B', 'C' and index 'X', 'Y', 'Z'. Fill the DataFrame with random integers and access the element at row 'Y' and column 'B'.\n",
    "import pandas as pd\n",
    "import numpy as np\n",
    "df = pd.DataFrame(np.random.randint(1,100,size=(6,4)), columns=['A','B','C','D'])\n",
    "print(\"Original DataFrame: \")\n",
    "print(df)\n",
    "\n",
    "df.set_index('A', inplace = True)\n",
    "print(\"DataFrame with the new index:\")\n",
    "print(df)\n",
    "# Set the  index to be the first column\n",
    "#\n",
    "\n",
    "df2 = pd.DataFrame(np.random.randint(1,100, size = (3,3)), columns=['A','B','C'], index=['X','Y','Z'])\n",
    "\n",
    "\n",
    "df2.at['Y','B']\n",
    "print(df2.at['Y','B'])"
   ]
  },
  {
   "cell_type": "code",
   "execution_count": 3,
   "id": "2c565010",
   "metadata": {},
   "outputs": [
    {
     "name": "stdout",
     "output_type": "stream",
     "text": [
      "Original DataFrame:\n",
      "     B   C   D\n",
      "A             \n",
      "2   44  91  80\n",
      "79  94  58  54\n",
      "36  71   7  70\n",
      "91  24  63  83\n",
      "31  14  37  53\n",
      "54  82  27  63\n",
      " Data frame with the new column\n",
      "    A   B   C     D\n",
      "0  62  12  34   744\n",
      "1  66  87  81  5742\n",
      "2  42  35  57  1470\n",
      "    A   B   C   D\n",
      "0  68  10  78  13\n",
      "1  42  63  79  62\n",
      "2  20  80  12  73\n"
     ]
    },
    {
     "data": {
      "text/plain": [
       "0    169\n",
       "1    246\n",
       "2    185\n",
       "dtype: int64"
      ]
     },
     "execution_count": 3,
     "metadata": {},
     "output_type": "execute_result"
    }
   ],
   "source": [
    "\n",
    "# ### Assignment 2: DataFrame Operations\n",
    "\n",
    "# 1. Create a Pandas DataFrame with 3 columns and 5 rows filled with random integers. Add a new column that is the product of the first two columns.\n",
    "# 2. Create a Pandas DataFrame with 3 columns and 4 rows filled with random integers. Compute the row-wise and column-wise sum.\n",
    "df3 = pd.DataFrame(np.random.randint(1,100,size=(3,3)), columns = ['A','B','C'])\n",
    "print(\"Original DataFrame:\")\n",
    "print(df)\n",
    "\n",
    "# Add a new column that is the product of the first column and the 2nd column\n",
    "df3['D']=df3['A']*df3['B']\n",
    "print(\" Data frame with the new column\")\n",
    "print(df3)\n",
    "\n",
    "\n",
    "df4 = pd.DataFrame(np.random.randint(1,100,size=(3,4)), columns = ['A','B','C','D'])\n",
    "print(df4)\n",
    "df4.sum(axis=0)\n",
    "df4.sum(axis=1)"
   ]
  },
  {
   "cell_type": "code",
   "execution_count": 4,
   "id": "db928676",
   "metadata": {},
   "outputs": [
    {
     "name": "stdout",
     "output_type": "stream",
     "text": [
      "DataFrame with NaN values:\n",
      "      A     B     C\n",
      "0  93.0   NaN  19.0\n",
      "1  83.0  14.0  55.0\n",
      "2  15.0  83.0   NaN\n",
      "3  32.0  88.0  78.0\n",
      "4   NaN  10.0  76.0\n",
      "      A          B          C\n",
      "0  93.0  54.833333  19.000000\n",
      "1  83.0  14.000000  55.000000\n",
      "2  15.0  83.000000  47.166667\n",
      "3  32.0  88.000000  78.000000\n",
      "4   NaN  10.000000  76.000000\n"
     ]
    }
   ],
   "source": [
    "\n",
    "# ### Assignment 3: Data Cleaning\n",
    "\n",
    "# 1. Create a Pandas DataFrame with 3 columns and 5 rows filled with random integers. Introduce some NaN values. Fill the NaN values with the mean of the respective columns.\n",
    "df5 = pd.DataFrame(np.random.randint(1,100,size=(5,3)), columns = ['A','B','C'])\n",
    "df5.iloc[0,1]= np.nan\n",
    "df5.iloc[2,2]= np.nan\n",
    "df5.iloc[4,0]= np.nan\n",
    "print(\"DataFrame with NaN values:\")\n",
    "print(df5)\n",
    "\n",
    "df5.fillna(df.mean(), inplace=True)  ## this is the function that will  fill the NaN values for the function\n",
    "print(df5)\n"
   ]
  },
  {
   "cell_type": "code",
   "execution_count": null,
   "id": "d9a31b26",
   "metadata": {},
   "outputs": [
    {
     "data": {
      "text/plain": [
       "0    22\n",
       "1    35\n",
       "2    58\n",
       "Name: Age, dtype: int64"
      ]
     },
     "execution_count": 23,
     "metadata": {},
     "output_type": "execute_result"
    }
   ],
   "source": [
    "\n",
    "# 2. Create a Pandas DataFrame with 4 columns and 6 rows filled with random integers. Introduce some NaN values. Drop the rows with any NaN values.\n",
    "df6 = pd.DataFrame(np.random.randint(1,100,size=(6,4)), columns = ['A','B','C','D'])\n",
    "df6.iloc[1,2]=np.nan\n",
    "df6.iloc[3,2]=np.nan\n",
    "df6.iloc[1,3]=np.nan\n",
    "df6.iloc[4,2]=np.nan\n",
    "\n",
    "\n",
    "\n",
    "# df6.dropna(inplace=True)  ## drop na \n",
    "df6[\"D\"]  ## this selection pattern is very similar to the selection of the dictionary values\n",
    "# by the dictionary keys\n",
    "\n",
    "ages = pd.Series([22,35,58],name = \"Age\")\n",
    "\n",
    "ages  ## as you can see that the pandas series doesnt have the labels for the columns and \n",
    "## the rows does have the labels still\n",
    "\n",
    "\n",
    "\n"
   ]
  },
  {
   "cell_type": "code",
   "execution_count": 44,
   "id": "af4e81ad",
   "metadata": {},
   "outputs": [
    {
     "name": "stdout",
     "output_type": "stream",
     "text": [
      "  Category  Value\n",
      "0        C     39\n",
      "1        B     16\n",
      "2        B     86\n",
      "3        A     21\n",
      "4        A     23\n",
      "5        B     75\n",
      "6        A     46\n",
      "7        B     10\n",
      "8        A     13\n",
      "9        A      9\n",
      "          sum   mean\n",
      "Category            \n",
      "A         112  22.40\n",
      "B         187  46.75\n",
      "C          39  39.00\n"
     ]
    }
   ],
   "source": [
    "\n",
    "# ### Assignment 4: Data Aggregation\n",
    "\n",
    "# 1. Create a Pandas DataFrame with 2 columns: 'Category' and 'Value'. \n",
    "# Fill the 'Category' column with random categories ('A', 'B', 'C') and the 'Value' column \n",
    "# with random integers. Group the DataFrame by 'Category' and compute the sum and mean of 'Value'\n",
    "# for each category.\n",
    "\n",
    "df7 = pd.DataFrame({'Category':np.random.choice(['A','B','C'], size = 10) , 'Value': np.random.randint(1,100, size = 10)})\n",
    "print(df7)\n",
    "\n",
    "grouped=df7.groupby('Category')['Value'].agg(['sum','mean'])\n",
    "print(grouped)\n"
   ]
  },
  {
   "cell_type": "code",
   "execution_count": 51,
   "id": "48c8972d",
   "metadata": {},
   "outputs": [
    {
     "data": {
      "text/plain": [
       "Category\n",
       "A    259\n",
       "B    114\n",
       "C     34\n",
       "Name: Sales, dtype: int32"
      ]
     },
     "execution_count": 51,
     "metadata": {},
     "output_type": "execute_result"
    }
   ],
   "source": [
    "\n",
    "# 2. Create a Pandas DataFrame with 3 columns: 'Product', 'Category', and 'Sales'. \n",
    "# Fill the DataFrame with random data. Group the DataFrame by 'Category' and compute the\n",
    "#  total sales for each category.\n",
    "\n",
    "df8 = pd.DataFrame({'Product':np.random.choice(['Prod1','Prod2','Prod3'], size = 10), \n",
    "                    'Category':np.random.choice(['A','B','C'], size=10),\n",
    "                    'Sales':np.random.randint(1,100,size=10)})\n",
    "df8.groupby('Category')['Sales'].sum()\n"
   ]
  },
  {
   "cell_type": "code",
   "execution_count": 60,
   "id": "e3bfff4e",
   "metadata": {},
   "outputs": [
    {
     "name": "stdout",
     "output_type": "stream",
     "text": [
      "Empty DataFrame\n",
      "Columns: [A, B, C]\n",
      "Index: []\n",
      "    A   B\n",
      "0  63   4\n",
      "1  71  45\n",
      "2  71  99\n",
      "    C   D\n",
      "0  41   6\n",
      "1  65  55\n",
      "2  95   2\n",
      "      A     B     C     D\n",
      "0  63.0   4.0   NaN   NaN\n",
      "1  71.0  45.0   NaN   NaN\n",
      "2  71.0  99.0   NaN   NaN\n",
      "0   NaN   NaN  41.0   6.0\n",
      "1   NaN   NaN  65.0  55.0\n",
      "2   NaN   NaN  95.0   2.0\n"
     ]
    }
   ],
   "source": [
    "\n",
    "# ### Assignment 5: Merging DataFrames\n",
    "\n",
    "# 1. Create two Pandas DataFrames with a common column. Merge the DataFrames using the common column.\n",
    "\n",
    "df9 = pd.DataFrame(np.random.randint(1,23, size = (10,2)), columns=['A','B'])\n",
    "df10 = pd.DataFrame(np.random.randint(1,23, size = (10,2)), columns=['A','C'])\n",
    "\n",
    "\n",
    "df_merged= pd.merge(df9,df10, on ='A', how='inner')\n",
    "print(df_merged)\n",
    "# 2. Create two Pandas DataFrames with different columns. Concatenate the DataFrames along the rows and along the columns.\n",
    "df11= pd.DataFrame({'A':np.random.randint(1,100,size=3),'B':np.random.randint(1,100,size=3)})\n",
    "df13= pd.DataFrame({'C':np.random.randint(1,100,size=3),'D':np.random.randint(1,100,size=3)})\n",
    "\n",
    "conc_data=pd.concat([df11,df13],axis=0)\n",
    "print(df11)\n",
    "print(df13)\n",
    "print(conc_data)"
   ]
  },
  {
   "cell_type": "code",
   "execution_count": null,
   "id": "b0bb706b",
   "metadata": {},
   "outputs": [],
   "source": [
    "\n",
    "# ### Assignment 6: Time Series Analysis\n",
    "\n",
    "# 1. Create a Pandas DataFrame with a datetime index and one column filled with random integers. \n",
    "# Resample the DataFrame to compute the monthly mean of the values.\n",
    "date_range = pd.date_range(start ='2022-01-01', end= '2022-12-31',freq='D')\n",
    "df14 = pd.DataFrame(date_range, columns=['date'])\n",
    "\n",
    "df14['data'] = np.random.randint(0,100, size=(len(date_range)))\n",
    "df14.set_index('date',inplace=True)\n",
    "df14\n",
    "monthly_mean = df14.resample('M').mean()\n",
    "print(monthly_mean)\n",
    "\n"
   ]
  },
  {
   "cell_type": "code",
   "execution_count": 72,
   "id": "42eaa0be",
   "metadata": {},
   "outputs": [
    {
     "name": "stdout",
     "output_type": "stream",
     "text": [
      "                 DATA\n",
      "date                 \n",
      "2021-01-03  31.333333\n",
      "2021-01-10  56.000000\n",
      "2021-01-17  44.000000\n",
      "2021-01-24  36.285714\n",
      "2021-01-31  55.428571\n",
      "2021-02-07  64.142857\n",
      "2021-02-14  77.285714\n",
      "2021-02-21  44.428571\n",
      "2021-02-28  64.142857\n",
      "2021-03-07  52.142857\n",
      "2021-03-14  45.428571\n",
      "2021-03-21  32.714286\n",
      "2021-03-28  44.428571\n",
      "2021-04-04  55.857143\n",
      "2021-04-11  26.714286\n",
      "2021-04-18  32.142857\n",
      "2021-04-25  34.000000\n",
      "2021-05-02  58.857143\n",
      "2021-05-09  55.714286\n",
      "2021-05-16  45.428571\n",
      "2021-05-23  43.571429\n",
      "2021-05-30  57.857143\n",
      "2021-06-06  48.285714\n",
      "2021-06-13  26.857143\n",
      "2021-06-20  28.857143\n",
      "2021-06-27  53.714286\n",
      "2021-07-04  31.428571\n",
      "2021-07-11  66.000000\n",
      "2021-07-18  48.428571\n",
      "2021-07-25  46.285714\n",
      "2021-08-01  54.714286\n",
      "2021-08-08  62.142857\n",
      "2021-08-15  52.714286\n",
      "2021-08-22  45.714286\n",
      "2021-08-29  43.857143\n",
      "2021-09-05  46.000000\n",
      "2021-09-12  51.571429\n",
      "2021-09-19  46.857143\n",
      "2021-09-26  47.428571\n",
      "2021-10-03  53.285714\n",
      "2021-10-10  45.857143\n",
      "2021-10-17  52.285714\n",
      "2021-10-24  62.714286\n",
      "2021-10-31  59.142857\n",
      "2021-11-07  66.142857\n",
      "2021-11-14  55.571429\n",
      "2021-11-21  40.714286\n",
      "2021-11-28  45.000000\n",
      "2021-12-05  29.285714\n",
      "2021-12-12  58.428571\n",
      "2021-12-19  49.857143\n",
      "2021-12-26  62.142857\n",
      "2022-01-02  41.600000\n"
     ]
    }
   ],
   "source": [
    "\n",
    "\n",
    "# 2. Create a Pandas DataFrame with a datetime index ranging from '2021-01-01' to '2021-12-31' \n",
    "# and one column filled with random integers. Compute the rolling mean with a window of 7 days.\n",
    "\n",
    "date_range2= pd.date_range(start='2021-01-01', end ='2021-12-31', freq='D')\n",
    "rand_integers = np.random.randint(1,100,size=(len(date_range2)))\n",
    "df15= pd.DataFrame(date_range2,columns=['date'])\n",
    "df15['DATA']=rand_integers\n",
    "df15\n",
    "\n",
    "df15.set_index('date', inplace=True)\n",
    "\n",
    "rolling_mean= df15.resample('W').mean()\n",
    "print(rolling_mean)\n"
   ]
  },
  {
   "cell_type": "code",
   "execution_count": 75,
   "id": "5b6e540f",
   "metadata": {},
   "outputs": [
    {
     "name": "stdout",
     "output_type": "stream",
     "text": [
      "                      Value1  Value2  Value3\n",
      "Category SubCategory                        \n",
      "A        one              77      52      33\n",
      "         two              59       8      33\n",
      "B        one              76      47      51\n",
      "         two              64       1      37\n",
      "             Value1  Value2  Value3\n",
      "SubCategory                        \n",
      "one              77      52      33\n",
      "two              59       8      33\n",
      "Slicing at category B and Subcategory 'two: \n",
      "Value1    64\n",
      "Value2     1\n",
      "Value3    37\n",
      "Name: (B, two), dtype: int32\n"
     ]
    }
   ],
   "source": [
    "\n",
    "# ### Assignment 7: MultiIndex DataFrame\n",
    "\n",
    "# 1. Create a Pandas DataFrame with a MultiIndex (hierarchical index).\n",
    "\n",
    "arrays=[['A','A','B','B'],['one','two','one','two']]\n",
    "index = pd.MultiIndex.from_arrays(arrays, names=('Category','SubCategory'))\n",
    "\n",
    "df = pd.DataFrame(np.random.randint(1,100, size=(4,3)),index=index, columns=['Value1','Value2','Value3'])\n",
    "print(df)\n",
    "print(df.loc['A'])\n",
    "\n",
    "\n",
    "#  Perform some basic indexing and slicing operations on the MultiIndex DataFrame.\n",
    "print(\"Slicing at category B and Subcategory 'two: \")\n",
    "print(df.loc[('B','two')])\n",
    "\n",
    "\n"
   ]
  },
  {
   "cell_type": "code",
   "execution_count": 82,
   "id": "b5a690be",
   "metadata": {},
   "outputs": [
    {
     "name": "stdout",
     "output_type": "stream",
     "text": [
      "MultiIndex DataFrame:\n",
      "                      Value1  Value2  Value3\n",
      "Category SubCategory                        \n",
      "A        one              86      99      71\n",
      "         two              35      87      48\n",
      "B        one              91      68      74\n",
      "         two              29      63      43\n",
      "C        one               1      58      63\n",
      "         two              67       7      42\n",
      "Value1    121\n",
      "Value2    186\n",
      "Value3    119\n",
      "dtype: int64\n",
      "Sum of values:\n",
      "256\n",
      "                      Value1  Value2  Value3\n",
      "Category SubCategory                        \n",
      "A        one              77      52      33\n",
      "         two              59       8      33\n",
      "B        one              76      47      51\n",
      "         two              64       1      37\n"
     ]
    }
   ],
   "source": [
    "\n",
    "\n",
    "# 2. Create a Pandas DataFrame with MultiIndex consisting of 'Category' and 'SubCategory'. \n",
    "arrays = [['A', 'A', 'B', 'B', 'C', 'C'], ['one', 'two', 'one', 'two', 'one', 'two']]\n",
    "index2 = pd.MultiIndex.from_arrays(arrays, names=('Category','SubCategory'))\n",
    "\n",
    "df18 = pd.DataFrame(np.random.randint(1,100, size =(6,3)), index=index2, columns=['Value1','Value2','Value3'])\n",
    "print(\"MultiIndex DataFrame:\")\n",
    "print(df18)\n",
    "# Fill the DataFrame with random data and compute the sum of values for each 'Category' and 'SubCategory'.\n",
    "\n",
    "print(df18.loc['A'].sum())\n",
    "\n",
    "subcategory_aOne = df18.loc[('A','one')].sum()\n",
    "\n",
    "sum_values=df.groupby(['Category','SubCategory']).sum()\n",
    "print(\"Sum of values:\")\n",
    "\n",
    "print(subcategory_aOne)\n",
    "print(sum_values)\n"
   ]
  },
  {
   "cell_type": "code",
   "execution_count": 101,
   "id": "3fc70545",
   "metadata": {},
   "outputs": [
    {
     "name": "stdout",
     "output_type": "stream",
     "text": [
      "         Date Category  Value\n",
      "0  2022-01-08        B     22\n",
      "1  2022-01-07        C     74\n",
      "2  2022-01-05        C     51\n",
      "3  2022-01-09        B     57\n",
      "4  2022-01-06        A     74\n",
      "5  2022-01-07        A     73\n",
      "6  2022-01-06        A     40\n",
      "7  2022-01-01        A     94\n",
      "8  2022-01-03        A     53\n",
      "9  2022-01-10        C     96\n",
      "10 2022-01-06        C     41\n",
      "11 2022-01-03        A     49\n",
      "12 2022-01-08        B     88\n",
      "13 2022-01-09        B     76\n",
      "14 2022-01-01        A     82\n",
      "15 2022-01-02        A     42\n",
      "16 2022-01-01        A     52\n",
      "17 2022-01-03        B     80\n",
      "18 2022-01-01        B     35\n",
      "19 2022-01-06        A     97\n",
      "Pivot Table: \n",
      "Category        A     B      C\n",
      "Date                          \n",
      "2022-01-01   22.0  68.0  150.0\n",
      "2022-01-03  141.0  60.0    7.0\n",
      "2022-01-04   37.0   NaN   29.0\n",
      "2022-01-05    NaN   NaN   75.0\n",
      "2022-01-06   31.0   NaN   81.0\n",
      "2022-01-08   88.0   NaN   29.0\n",
      "2022-01-09    NaN  13.0   14.0\n",
      "2022-01-10    NaN  26.0    NaN\n",
      "    Year Quarter  Revenue\n",
      "0   2021      Q1        8\n",
      "1   2022      Q1      406\n",
      "2   2021      Q3       41\n",
      "3   2020      Q4      914\n",
      "4   2022      Q1      309\n",
      "5   2021      Q4      894\n",
      "6   2021      Q4      822\n",
      "7   2022      Q1      348\n",
      "8   2021      Q2      468\n",
      "9   2021      Q4      857\n",
      "10  2021      Q1      829\n",
      "11  2021      Q4      804\n",
      "Quarter          Q1     Q2    Q3      Q4\n",
      "Year                                    \n",
      "2020            NaN    NaN   NaN  914.00\n",
      "2021     418.500000  468.0  41.0  844.25\n",
      "2022     354.333333    NaN   NaN     NaN\n"
     ]
    }
   ],
   "source": [
    "\n",
    "# ### Assignment 8: Pivot Tables\n",
    "\n",
    "# 1. Create a Pandas DataFrame with columns 'Date', 'Category', and 'Value'.\n",
    "#  Create a pivot table to compute the sum of 'Value' for each 'Category' by 'Date'.\n",
    "\n",
    "date_rng=pd.date_range(start='2022-01-01', end = '2022-01-10', freq='D')\n",
    "df21= pd.DataFrame({'Date':np.random.choice(date_rng, size = 20), 'Category':np.random.choice(['A','B','C'],size=20),'Value':np.random.randint(1,100,size=20)})\n",
    "print(df21)\n",
    "\n",
    "pivot_table = df.pivot_table(values='Value', index='Date',columns='Category', aggfunc='sum')\n",
    "print(\"Pivot Table: \")\n",
    "print(pivot_table)\n",
    "# 2. Create a Pandas DataFrame with columns 'Year', 'Quarter', and 'Revenue'. Create a pivot table to compute the mean 'Revenue' for each 'Quarter' by 'Year'.\n",
    "df22 = pd.DataFrame({'Year':np.random.choice([2020,2021,2022], size = 12),'Quarter': np.random.choice(['Q1','Q2','Q3','Q4'], size = 12),'Revenue': np.random.randint(1,1000, size =12)})\n",
    "pivot_table2=df22.pivot_table(values='Revenue',index='Year',columns='Quarter',aggfunc='mean')\n",
    "print(df22)\n",
    "print(pivot_table2)\n"
   ]
  },
  {
   "cell_type": "code",
   "execution_count": 95,
   "id": "1411814d",
   "metadata": {},
   "outputs": [
    {
     "name": "stdout",
     "output_type": "stream",
     "text": [
      " DOubled Data Frame\n",
      "    A   B   C\n",
      "0  12  28  22\n",
      "1  10   2  38\n",
      "2  34  30  16\n",
      "3  32   2   6\n",
      "4  24  26  22\n"
     ]
    },
    {
     "name": "stderr",
     "output_type": "stream",
     "text": [
      "C:\\Users\\600790\\AppData\\Local\\Temp\\ipykernel_37772\\2477426562.py:8: FutureWarning: DataFrame.applymap has been deprecated. Use DataFrame.map instead.\n",
      "  df_doubled = df25.applymap(lambda x:x*2)\n"
     ]
    }
   ],
   "source": [
    "\n",
    "# ### Assignment 9: Applying Functions\n",
    "\n",
    "# 1. Create a Pandas DataFrame with 3 columns\n",
    "#  and 5 rows filled with random integers. \n",
    "# Apply a function that doubles the values of the DataFrame.\n",
    "\n",
    "df25=pd.DataFrame(np.random.randint(1,21,size=(5,3)), columns =(['A','B','C']))\n",
    "df_doubled = df25.applymap(lambda x:x*2)\n",
    "print(\" DOubled Data Frame\")\n",
    "print(df_doubled)"
   ]
  },
  {
   "cell_type": "code",
   "execution_count": 97,
   "id": "c7eb3af6",
   "metadata": {},
   "outputs": [
    {
     "data": {
      "text/html": [
       "<div>\n",
       "<style scoped>\n",
       "    .dataframe tbody tr th:only-of-type {\n",
       "        vertical-align: middle;\n",
       "    }\n",
       "\n",
       "    .dataframe tbody tr th {\n",
       "        vertical-align: top;\n",
       "    }\n",
       "\n",
       "    .dataframe thead th {\n",
       "        text-align: right;\n",
       "    }\n",
       "</style>\n",
       "<table border=\"1\" class=\"dataframe\">\n",
       "  <thead>\n",
       "    <tr style=\"text-align: right;\">\n",
       "      <th></th>\n",
       "      <th>A</th>\n",
       "      <th>B</th>\n",
       "      <th>C</th>\n",
       "      <th>SUM_OF_COLUMNS</th>\n",
       "    </tr>\n",
       "  </thead>\n",
       "  <tbody>\n",
       "    <tr>\n",
       "      <th>0</th>\n",
       "      <td>6</td>\n",
       "      <td>8</td>\n",
       "      <td>5</td>\n",
       "      <td>19</td>\n",
       "    </tr>\n",
       "    <tr>\n",
       "      <th>1</th>\n",
       "      <td>2</td>\n",
       "      <td>1</td>\n",
       "      <td>7</td>\n",
       "      <td>10</td>\n",
       "    </tr>\n",
       "    <tr>\n",
       "      <th>2</th>\n",
       "      <td>7</td>\n",
       "      <td>5</td>\n",
       "      <td>3</td>\n",
       "      <td>15</td>\n",
       "    </tr>\n",
       "    <tr>\n",
       "      <th>3</th>\n",
       "      <td>5</td>\n",
       "      <td>3</td>\n",
       "      <td>6</td>\n",
       "      <td>14</td>\n",
       "    </tr>\n",
       "    <tr>\n",
       "      <th>4</th>\n",
       "      <td>5</td>\n",
       "      <td>5</td>\n",
       "      <td>5</td>\n",
       "      <td>15</td>\n",
       "    </tr>\n",
       "    <tr>\n",
       "      <th>5</th>\n",
       "      <td>6</td>\n",
       "      <td>7</td>\n",
       "      <td>8</td>\n",
       "      <td>21</td>\n",
       "    </tr>\n",
       "  </tbody>\n",
       "</table>\n",
       "</div>"
      ],
      "text/plain": [
       "   A  B  C  SUM_OF_COLUMNS\n",
       "0  6  8  5              19\n",
       "1  2  1  7              10\n",
       "2  7  5  3              15\n",
       "3  5  3  6              14\n",
       "4  5  5  5              15\n",
       "5  6  7  8              21"
      ]
     },
     "execution_count": 97,
     "metadata": {},
     "output_type": "execute_result"
    }
   ],
   "source": [
    "\n",
    "# 2. Create a Pandas DataFrame with 3 columns and 6 rows filled with random integers. Apply a lambda function to create a new column that is the sum of the existing columns.\n",
    "df26=pd.DataFrame(np.random.randint(1,9,size=(6,3)), columns =(['A','B','C']))\n",
    "\n",
    "df26['SUM_OF_COLUMNS']=df26.aggregate('sum',axis=1)\n",
    "df26\n"
   ]
  },
  {
   "cell_type": "code",
   "execution_count": null,
   "id": "d3f0b4db",
   "metadata": {},
   "outputs": [],
   "source": [
    "\n",
    "# ### Assignment 10: Working with Text Data\n",
    "\n",
    "# 1. Create a Pandas Series with 5 random text strings. Convert all the strings to uppercase.\n",
    "\n",
    "text_data= pd.Series(['apple','banana','cherry','date','elderberry'])\n",
    "print(\"Original Series\")\n",
    "print(text_data)\n",
    "\n",
    "upper_caseData = text_data.str.upper()\n",
    "print(\"Uppercase Series: \")\n",
    "print(upper_caseData)"
   ]
  },
  {
   "cell_type": "code",
   "execution_count": 104,
   "id": "db2ca95c",
   "metadata": {},
   "outputs": [
    {
     "name": "stdout",
     "output_type": "stream",
     "text": [
      "0         apple\n",
      "1        banana\n",
      "2        cherry\n",
      "3          date\n",
      "4    elderberry\n",
      "dtype: object\n",
      "0    app\n",
      "1    ban\n",
      "2    che\n",
      "3    dat\n",
      "4    eld\n",
      "dtype: object\n"
     ]
    }
   ],
   "source": [
    "\n",
    "# 2. Create a Pandas Series with 5 random text strings. \n",
    "# Extract the first three characters of each string.\n",
    "\n",
    "text_data2 = pd.Series(['apple','banana','cherry','date','elderberry'])\n",
    "print(text_data2)\n",
    "\n",
    "sliced_Data =text_data2.str.slice(0,3)\n",
    "print(sliced_Data)\n"
   ]
  },
  {
   "cell_type": "code",
   "execution_count": null,
   "id": "5815d95e",
   "metadata": {},
   "outputs": [],
   "source": []
  }
 ],
 "metadata": {
  "kernelspec": {
   "display_name": "Python 3",
   "language": "python",
   "name": "python3"
  },
  "language_info": {
   "codemirror_mode": {
    "name": "ipython",
    "version": 3
   },
   "file_extension": ".py",
   "mimetype": "text/x-python",
   "name": "python",
   "nbconvert_exporter": "python",
   "pygments_lexer": "ipython3",
   "version": "3.12.0"
  }
 },
 "nbformat": 4,
 "nbformat_minor": 5
}
